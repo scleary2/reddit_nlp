{
 "cells": [
  {
   "cell_type": "code",
   "execution_count": 218,
   "metadata": {},
   "outputs": [],
   "source": [
    "# Standards\n",
    "import pandas as pd\n",
    "import numpy as np\n",
    "\n",
    "# API\n",
    "import requests\n",
    "\n",
    "# Automating\n",
    "import time\n",
    "import datetime\n",
    "import warnings\n",
    "import sys\n",
    "\n",
    "from sklearn.feature_extraction.text import TfidfVectorizer,CountVectorizer\n",
    "from sklearn.naive_bayes import MultinomialNB"
   ]
  },
  {
   "cell_type": "code",
   "execution_count": 2,
   "metadata": {},
   "outputs": [],
   "source": [
    "# Set base url\n",
    "url = 'https://api.pushshift.io/reddit/search/submission/?subreddit='"
   ]
  },
  {
   "cell_type": "code",
   "execution_count": 38,
   "metadata": {},
   "outputs": [],
   "source": [
    "# Set params\n",
    "params = {\n",
    "    'subreddit':'machinelearning',\n",
    "    'size':100,\n",
    "    'lang':True,\n",
    "#     'before':1601384439\n",
    "}"
   ]
  },
  {
   "cell_type": "code",
   "execution_count": 39,
   "metadata": {},
   "outputs": [
    {
     "data": {
      "text/plain": [
       "<Response [200]>"
      ]
     },
     "execution_count": 39,
     "metadata": {},
     "output_type": "execute_result"
    }
   ],
   "source": [
    "# Make request\n",
    "res = requests.get(url,params)\n",
    "res"
   ]
  },
  {
   "cell_type": "code",
   "execution_count": 40,
   "metadata": {},
   "outputs": [],
   "source": [
    "df_ml = pd.DataFrame(res.json()['data'])"
   ]
  },
  {
   "cell_type": "code",
   "execution_count": 41,
   "metadata": {},
   "outputs": [
    {
     "data": {
      "text/html": [
       "<div>\n",
       "<style scoped>\n",
       "    .dataframe tbody tr th:only-of-type {\n",
       "        vertical-align: middle;\n",
       "    }\n",
       "\n",
       "    .dataframe tbody tr th {\n",
       "        vertical-align: top;\n",
       "    }\n",
       "\n",
       "    .dataframe thead th {\n",
       "        text-align: right;\n",
       "    }\n",
       "</style>\n",
       "<table border=\"1\" class=\"dataframe\">\n",
       "  <thead>\n",
       "    <tr style=\"text-align: right;\">\n",
       "      <th></th>\n",
       "      <th>title</th>\n",
       "      <th>author</th>\n",
       "      <th>created_utc</th>\n",
       "      <th>selftext</th>\n",
       "      <th>subreddit</th>\n",
       "      <th>id</th>\n",
       "      <th>media_only</th>\n",
       "    </tr>\n",
       "  </thead>\n",
       "  <tbody>\n",
       "    <tr>\n",
       "      <th>0</th>\n",
       "      <td>[D] NLP and Sesame Street Papers</td>\n",
       "      <td>enclosed_mail</td>\n",
       "      <td>1601496204</td>\n",
       "      <td>I think subconsciously I like NLP because I ha...</td>\n",
       "      <td>MachineLearning</td>\n",
       "      <td>j2tk96</td>\n",
       "      <td>False</td>\n",
       "    </tr>\n",
       "    <tr>\n",
       "      <th>1</th>\n",
       "      <td>NLP and Sesame Street</td>\n",
       "      <td>enclosed_mail</td>\n",
       "      <td>1601495824</td>\n",
       "      <td>[removed]</td>\n",
       "      <td>MachineLearning</td>\n",
       "      <td>j2tfxi</td>\n",
       "      <td>False</td>\n",
       "    </tr>\n",
       "    <tr>\n",
       "      <th>2</th>\n",
       "      <td>[P] Many PhD fellowships (ERC funded) in Data ...</td>\n",
       "      <td>tuyenttoslo</td>\n",
       "      <td>1601495770</td>\n",
       "      <td>Dear all,   \\n\\n\\nThere will be two calls of P...</td>\n",
       "      <td>MachineLearning</td>\n",
       "      <td>j2tfcv</td>\n",
       "      <td>False</td>\n",
       "    </tr>\n",
       "    <tr>\n",
       "      <th>3</th>\n",
       "      <td>Fashion forecasting with machine learning [P]</td>\n",
       "      <td>zero_redditer</td>\n",
       "      <td>1601495149</td>\n",
       "      <td>Hi everyone! This week I joined an exciting ch...</td>\n",
       "      <td>MachineLearning</td>\n",
       "      <td>j2t8gs</td>\n",
       "      <td>False</td>\n",
       "    </tr>\n",
       "    <tr>\n",
       "      <th>4</th>\n",
       "      <td>Fashion forecasting with machine learning</td>\n",
       "      <td>zero_redditer</td>\n",
       "      <td>1601495034</td>\n",
       "      <td>[removed]</td>\n",
       "      <td>MachineLearning</td>\n",
       "      <td>j2t75k</td>\n",
       "      <td>False</td>\n",
       "    </tr>\n",
       "    <tr>\n",
       "      <th>...</th>\n",
       "      <td>...</td>\n",
       "      <td>...</td>\n",
       "      <td>...</td>\n",
       "      <td>...</td>\n",
       "      <td>...</td>\n",
       "      <td>...</td>\n",
       "      <td>...</td>\n",
       "    </tr>\n",
       "    <tr>\n",
       "      <th>95</th>\n",
       "      <td>[N] The $75000 COVID-19 Symptom Data Challenge...</td>\n",
       "      <td>SubstantialRange</td>\n",
       "      <td>1601400509</td>\n",
       "      <td>[https://www.symptomchallenge.org/](https://ww...</td>\n",
       "      <td>MachineLearning</td>\n",
       "      <td>j23wfb</td>\n",
       "      <td>False</td>\n",
       "    </tr>\n",
       "    <tr>\n",
       "      <th>96</th>\n",
       "      <td>The $75000 COVID-19 Symptom Data Challenge, Fr...</td>\n",
       "      <td>SubstantialRange</td>\n",
       "      <td>1601400464</td>\n",
       "      <td></td>\n",
       "      <td>MachineLearning</td>\n",
       "      <td>j23vv0</td>\n",
       "      <td>False</td>\n",
       "    </tr>\n",
       "    <tr>\n",
       "      <th>97</th>\n",
       "      <td>[D] Simplest way of doing distributed training...</td>\n",
       "      <td>datatuabun</td>\n",
       "      <td>1601400417</td>\n",
       "      <td>Hi peeps, I was wondering if any of you have a...</td>\n",
       "      <td>MachineLearning</td>\n",
       "      <td>j23v9r</td>\n",
       "      <td>False</td>\n",
       "    </tr>\n",
       "    <tr>\n",
       "      <th>98</th>\n",
       "      <td>[R] Dendrite Net: A White-Box Module for Class...</td>\n",
       "      <td>MGangLiu</td>\n",
       "      <td>1601398890</td>\n",
       "      <td>Abstract \\n\\nThis paper presents a basic mach...</td>\n",
       "      <td>MachineLearning</td>\n",
       "      <td>j23bt7</td>\n",
       "      <td>False</td>\n",
       "    </tr>\n",
       "    <tr>\n",
       "      <th>99</th>\n",
       "      <td>Dendrite Net: A White-Box Module for Classific...</td>\n",
       "      <td>MGangLiu</td>\n",
       "      <td>1601398714</td>\n",
       "      <td>[removed]</td>\n",
       "      <td>MachineLearning</td>\n",
       "      <td>j239le</td>\n",
       "      <td>False</td>\n",
       "    </tr>\n",
       "  </tbody>\n",
       "</table>\n",
       "<p>100 rows × 7 columns</p>\n",
       "</div>"
      ],
      "text/plain": [
       "                                                title            author  \\\n",
       "0                    [D] NLP and Sesame Street Papers     enclosed_mail   \n",
       "1                               NLP and Sesame Street     enclosed_mail   \n",
       "2   [P] Many PhD fellowships (ERC funded) in Data ...       tuyenttoslo   \n",
       "3       Fashion forecasting with machine learning [P]     zero_redditer   \n",
       "4           Fashion forecasting with machine learning     zero_redditer   \n",
       "..                                                ...               ...   \n",
       "95  [N] The $75000 COVID-19 Symptom Data Challenge...  SubstantialRange   \n",
       "96  The $75000 COVID-19 Symptom Data Challenge, Fr...  SubstantialRange   \n",
       "97  [D] Simplest way of doing distributed training...        datatuabun   \n",
       "98  [R] Dendrite Net: A White-Box Module for Class...          MGangLiu   \n",
       "99  Dendrite Net: A White-Box Module for Classific...          MGangLiu   \n",
       "\n",
       "    created_utc                                           selftext  \\\n",
       "0    1601496204  I think subconsciously I like NLP because I ha...   \n",
       "1    1601495824                                          [removed]   \n",
       "2    1601495770  Dear all,   \\n\\n\\nThere will be two calls of P...   \n",
       "3    1601495149  Hi everyone! This week I joined an exciting ch...   \n",
       "4    1601495034                                          [removed]   \n",
       "..          ...                                                ...   \n",
       "95   1601400509  [https://www.symptomchallenge.org/](https://ww...   \n",
       "96   1601400464                                                      \n",
       "97   1601400417  Hi peeps, I was wondering if any of you have a...   \n",
       "98   1601398890   Abstract \\n\\nThis paper presents a basic mach...   \n",
       "99   1601398714                                          [removed]   \n",
       "\n",
       "          subreddit      id  media_only  \n",
       "0   MachineLearning  j2tk96       False  \n",
       "1   MachineLearning  j2tfxi       False  \n",
       "2   MachineLearning  j2tfcv       False  \n",
       "3   MachineLearning  j2t8gs       False  \n",
       "4   MachineLearning  j2t75k       False  \n",
       "..              ...     ...         ...  \n",
       "95  MachineLearning  j23wfb       False  \n",
       "96  MachineLearning  j23vv0       False  \n",
       "97  MachineLearning  j23v9r       False  \n",
       "98  MachineLearning  j23bt7       False  \n",
       "99  MachineLearning  j239le       False  \n",
       "\n",
       "[100 rows x 7 columns]"
      ]
     },
     "execution_count": 41,
     "metadata": {},
     "output_type": "execute_result"
    }
   ],
   "source": [
    "# Extract columns\n",
    "df_ml = df_ml.loc[:,['title','author','created_utc','selftext','subreddit','id','media_only']]\n",
    "df_ml"
   ]
  },
  {
   "cell_type": "code",
   "execution_count": 11,
   "metadata": {},
   "outputs": [],
   "source": [
    "df_wall = pd.DataFrame(res.json()['data'])"
   ]
  },
  {
   "cell_type": "code",
   "execution_count": 12,
   "metadata": {},
   "outputs": [
    {
     "data": {
      "text/plain": [
       "Index(['all_awardings', 'allow_live_comments', 'author',\n",
       "       'author_flair_background_color', 'author_flair_css_class',\n",
       "       'author_flair_richtext', 'author_flair_text', 'author_flair_text_color',\n",
       "       'author_flair_type', 'author_fullname', 'author_patreon_flair',\n",
       "       'author_premium', 'awarders', 'can_mod_post', 'contest_mode',\n",
       "       'created_utc', 'domain', 'full_link', 'gildings', 'id',\n",
       "       'is_crosspostable', 'is_meta', 'is_original_content',\n",
       "       'is_reddit_media_domain', 'is_robot_indexable', 'is_self', 'is_video',\n",
       "       'link_flair_background_color', 'link_flair_css_class',\n",
       "       'link_flair_richtext', 'link_flair_template_id', 'link_flair_text',\n",
       "       'link_flair_text_color', 'link_flair_type', 'locked', 'media_only',\n",
       "       'no_follow', 'num_comments', 'num_crossposts', 'over_18',\n",
       "       'parent_whitelist_status', 'permalink', 'pinned', 'post_hint',\n",
       "       'preview', 'pwls', 'removed_by_category', 'retrieved_on', 'score',\n",
       "       'selftext', 'send_replies', 'spoiler', 'stickied', 'subreddit',\n",
       "       'subreddit_id', 'subreddit_subscribers', 'subreddit_type',\n",
       "       'suggested_sort', 'thumbnail', 'thumbnail_height', 'thumbnail_width',\n",
       "       'title', 'total_awards_received', 'treatment_tags', 'upvote_ratio',\n",
       "       'url', 'url_overridden_by_dest', 'whitelist_status', 'wls', 'media',\n",
       "       'media_embed', 'secure_media', 'secure_media_embed',\n",
       "       'author_flair_template_id', 'distinguished', 'media_metadata'],\n",
       "      dtype='object')"
      ]
     },
     "execution_count": 12,
     "metadata": {},
     "output_type": "execute_result"
    }
   ],
   "source": [
    "df_wall.columns"
   ]
  },
  {
   "cell_type": "code",
   "execution_count": 18,
   "metadata": {},
   "outputs": [
    {
     "data": {
      "text/html": [
       "<div>\n",
       "<style scoped>\n",
       "    .dataframe tbody tr th:only-of-type {\n",
       "        vertical-align: middle;\n",
       "    }\n",
       "\n",
       "    .dataframe tbody tr th {\n",
       "        vertical-align: top;\n",
       "    }\n",
       "\n",
       "    .dataframe thead th {\n",
       "        text-align: right;\n",
       "    }\n",
       "</style>\n",
       "<table border=\"1\" class=\"dataframe\">\n",
       "  <thead>\n",
       "    <tr style=\"text-align: right;\">\n",
       "      <th></th>\n",
       "      <th>title</th>\n",
       "      <th>author</th>\n",
       "      <th>created_utc</th>\n",
       "      <th>selftext</th>\n",
       "      <th>subreddit</th>\n",
       "      <th>id</th>\n",
       "      <th>media_only</th>\n",
       "    </tr>\n",
       "  </thead>\n",
       "  <tbody>\n",
       "    <tr>\n",
       "      <th>0</th>\n",
       "      <td>Translation: “Huge fan of WSB. Will make sure ...</td>\n",
       "      <td>DeanYerdon</td>\n",
       "      <td>1601384371</td>\n",
       "      <td></td>\n",
       "      <td>wallstreetbets</td>\n",
       "      <td>j1ypux</td>\n",
       "      <td>False</td>\n",
       "    </tr>\n",
       "    <tr>\n",
       "      <th>1</th>\n",
       "      <td>ONE OF US: From $330 million to $9 million - G...</td>\n",
       "      <td>Schrodingersdawg</td>\n",
       "      <td>1601383932</td>\n",
       "      <td>https://nypost.com/2020/09/28/allianz-accused-...</td>\n",
       "      <td>wallstreetbets</td>\n",
       "      <td>j1ylrv</td>\n",
       "      <td>False</td>\n",
       "    </tr>\n",
       "    <tr>\n",
       "      <th>2</th>\n",
       "      <td>Propane and Propane Related Products (SPH)</td>\n",
       "      <td>Nolliethedog</td>\n",
       "      <td>1601383885</td>\n",
       "      <td>I'm betting a large increase in demand for pr...</td>\n",
       "      <td>wallstreetbets</td>\n",
       "      <td>j1ylb8</td>\n",
       "      <td>False</td>\n",
       "    </tr>\n",
       "    <tr>\n",
       "      <th>3</th>\n",
       "      <td>Update from mom who made 500+% on lithium stoc...</td>\n",
       "      <td>htotheizzostocks</td>\n",
       "      <td>1601383841</td>\n",
       "      <td></td>\n",
       "      <td>wallstreetbets</td>\n",
       "      <td>j1ykvs</td>\n",
       "      <td>False</td>\n",
       "    </tr>\n",
       "    <tr>\n",
       "      <th>4</th>\n",
       "      <td>congrats, retards</td>\n",
       "      <td>peepee_the_cat</td>\n",
       "      <td>1601383786</td>\n",
       "      <td></td>\n",
       "      <td>wallstreetbets</td>\n",
       "      <td>j1ykew</td>\n",
       "      <td>False</td>\n",
       "    </tr>\n",
       "    <tr>\n",
       "      <th>...</th>\n",
       "      <td>...</td>\n",
       "      <td>...</td>\n",
       "      <td>...</td>\n",
       "      <td>...</td>\n",
       "      <td>...</td>\n",
       "      <td>...</td>\n",
       "      <td>...</td>\n",
       "    </tr>\n",
       "    <tr>\n",
       "      <th>95</th>\n",
       "      <td>Largest 4h Streak of 2020- Red is coming</td>\n",
       "      <td>TheRedditRef</td>\n",
       "      <td>1601356698</td>\n",
       "      <td></td>\n",
       "      <td>wallstreetbets</td>\n",
       "      <td>j1t12v</td>\n",
       "      <td>False</td>\n",
       "    </tr>\n",
       "    <tr>\n",
       "      <th>96</th>\n",
       "      <td>Bull Szn</td>\n",
       "      <td>StonkCalls</td>\n",
       "      <td>1601356615</td>\n",
       "      <td></td>\n",
       "      <td>wallstreetbets</td>\n",
       "      <td>j1t0g4</td>\n",
       "      <td>False</td>\n",
       "    </tr>\n",
       "    <tr>\n",
       "      <th>97</th>\n",
       "      <td>THIS is Value Investing</td>\n",
       "      <td>FloydMCD</td>\n",
       "      <td>1601356544</td>\n",
       "      <td></td>\n",
       "      <td>wallstreetbets</td>\n",
       "      <td>j1szwz</td>\n",
       "      <td>False</td>\n",
       "    </tr>\n",
       "    <tr>\n",
       "      <th>98</th>\n",
       "      <td>“Got stuck in some waist deep at Alpental last...</td>\n",
       "      <td>Kommoncents1</td>\n",
       "      <td>1601356396</td>\n",
       "      <td></td>\n",
       "      <td>wallstreetbets</td>\n",
       "      <td>j1sypp</td>\n",
       "      <td>False</td>\n",
       "    </tr>\n",
       "    <tr>\n",
       "      <th>99</th>\n",
       "      <td>Join the extended wsb Discord Server as the ma...</td>\n",
       "      <td>jartekwsb</td>\n",
       "      <td>1601356231</td>\n",
       "      <td></td>\n",
       "      <td>wallstreetbets</td>\n",
       "      <td>j1sxgz</td>\n",
       "      <td>False</td>\n",
       "    </tr>\n",
       "  </tbody>\n",
       "</table>\n",
       "<p>100 rows × 7 columns</p>\n",
       "</div>"
      ],
      "text/plain": [
       "                                                title            author  \\\n",
       "0   Translation: “Huge fan of WSB. Will make sure ...        DeanYerdon   \n",
       "1   ONE OF US: From $330 million to $9 million - G...  Schrodingersdawg   \n",
       "2          Propane and Propane Related Products (SPH)      Nolliethedog   \n",
       "3   Update from mom who made 500+% on lithium stoc...  htotheizzostocks   \n",
       "4                                   congrats, retards    peepee_the_cat   \n",
       "..                                                ...               ...   \n",
       "95           Largest 4h Streak of 2020- Red is coming      TheRedditRef   \n",
       "96                                           Bull Szn        StonkCalls   \n",
       "97                            THIS is Value Investing          FloydMCD   \n",
       "98  “Got stuck in some waist deep at Alpental last...      Kommoncents1   \n",
       "99  Join the extended wsb Discord Server as the ma...         jartekwsb   \n",
       "\n",
       "    created_utc                                           selftext  \\\n",
       "0    1601384371                                                      \n",
       "1    1601383932  https://nypost.com/2020/09/28/allianz-accused-...   \n",
       "2    1601383885   I'm betting a large increase in demand for pr...   \n",
       "3    1601383841                                                      \n",
       "4    1601383786                                                      \n",
       "..          ...                                                ...   \n",
       "95   1601356698                                                      \n",
       "96   1601356615                                                      \n",
       "97   1601356544                                                      \n",
       "98   1601356396                                                      \n",
       "99   1601356231                                                      \n",
       "\n",
       "         subreddit      id  media_only  \n",
       "0   wallstreetbets  j1ypux       False  \n",
       "1   wallstreetbets  j1ylrv       False  \n",
       "2   wallstreetbets  j1ylb8       False  \n",
       "3   wallstreetbets  j1ykvs       False  \n",
       "4   wallstreetbets  j1ykew       False  \n",
       "..             ...     ...         ...  \n",
       "95  wallstreetbets  j1t12v       False  \n",
       "96  wallstreetbets  j1t0g4       False  \n",
       "97  wallstreetbets  j1szwz       False  \n",
       "98  wallstreetbets  j1sypp       False  \n",
       "99  wallstreetbets  j1sxgz       False  \n",
       "\n",
       "[100 rows x 7 columns]"
      ]
     },
     "execution_count": 18,
     "metadata": {},
     "output_type": "execute_result"
    }
   ],
   "source": [
    "# Extract columns\n",
    "df_wall = df_wall.loc[:,['title','author','created_utc','selftext','subreddit','id','media_only']]\n",
    "df_wall"
   ]
  },
  {
   "cell_type": "code",
   "execution_count": 51,
   "metadata": {},
   "outputs": [],
   "source": [
    "def get_posts(subreddit, n_iter, epoch_right_now): # subreddit name and number of times function should run\n",
    "    # store base url variable\n",
    "    base_url = 'https://api.pushshift.io/reddit/search/submission/?subreddit='\n",
    "    # instantiate empty list    \n",
    "    df_list = []\n",
    "    # save current epoch, used to iterate in reverse through time\n",
    "    current_time = epoch_right_now\n",
    "    # set up for loop\n",
    "    for post in range(n_iter):\n",
    "        # instantiate get request\n",
    "        res = requests.get(\n",
    "            # requests.get takes base_url and params\n",
    "            base_url,\n",
    "            # parameters for get request\n",
    "            params = {\n",
    "                # specify subreddit\n",
    "                'subreddit' : subreddit,\n",
    "                # specify number of posts to pull\n",
    "                'size' : 100,\n",
    "                # ???\n",
    "                'lang' : True,\n",
    "                # pull everything from current time backward\n",
    "                'before' : current_time }\n",
    "        )\n",
    "        # take data from most recent request, store as df\n",
    "        df = pd.DataFrame(res.json()['data'])\n",
    "        # pull specific columns from dataframe for analysis\n",
    "        df = df.loc[:, ['title',\n",
    "                        'author',\n",
    "                        'created_utc', \n",
    "                        'selftext',\n",
    "                        'subreddit',\n",
    "                        'media_only',\n",
    "                        'permalink']]\n",
    "        # append to empty dataframe list\n",
    "        df_list.append(df)\n",
    "        \n",
    "        #add waittime\n",
    "        time.sleep(3)\n",
    "        # set current time counter back to last epoch in recently grabbed df\n",
    "        current_time = df['created_utc'].min()\n",
    "    # return one dataframe for all requests\n",
    "    return pd.concat(df_list, axis=0)\n",
    "# Adapated from Tim Book's Lesson Example"
   ]
  },
  {
   "cell_type": "code",
   "execution_count": 21,
   "metadata": {},
   "outputs": [
    {
     "data": {
      "text/plain": [
       "(1000, 7)"
      ]
     },
     "execution_count": 21,
     "metadata": {},
     "output_type": "execute_result"
    }
   ],
   "source": [
    "wall = get_posts('wallstreetbets',10,1601384439)\n"
   ]
  },
  {
   "cell_type": "code",
   "execution_count": 22,
   "metadata": {},
   "outputs": [
    {
     "data": {
      "text/plain": [
       "(1000, 7)"
      ]
     },
     "execution_count": 22,
     "metadata": {},
     "output_type": "execute_result"
    }
   ],
   "source": [
    "wall.shape"
   ]
  },
  {
   "cell_type": "code",
   "execution_count": 24,
   "metadata": {},
   "outputs": [
    {
     "data": {
      "text/html": [
       "<div>\n",
       "<style scoped>\n",
       "    .dataframe tbody tr th:only-of-type {\n",
       "        vertical-align: middle;\n",
       "    }\n",
       "\n",
       "    .dataframe tbody tr th {\n",
       "        vertical-align: top;\n",
       "    }\n",
       "\n",
       "    .dataframe thead th {\n",
       "        text-align: right;\n",
       "    }\n",
       "</style>\n",
       "<table border=\"1\" class=\"dataframe\">\n",
       "  <thead>\n",
       "    <tr style=\"text-align: right;\">\n",
       "      <th></th>\n",
       "      <th>title</th>\n",
       "      <th>author</th>\n",
       "      <th>created_utc</th>\n",
       "      <th>selftext</th>\n",
       "      <th>subreddit</th>\n",
       "      <th>media_only</th>\n",
       "      <th>permalink</th>\n",
       "    </tr>\n",
       "  </thead>\n",
       "  <tbody>\n",
       "    <tr>\n",
       "      <th>98</th>\n",
       "      <td>ms paint prediction</td>\n",
       "      <td>beholdtheflesh</td>\n",
       "      <td>1601158205</td>\n",
       "      <td></td>\n",
       "      <td>wallstreetbets</td>\n",
       "      <td>False</td>\n",
       "      <td>/r/wallstreetbets/comments/j0eznp/ms_paint_pre...</td>\n",
       "    </tr>\n",
       "    <tr>\n",
       "      <th>99</th>\n",
       "      <td>Got a nice pullback on WTI Oil last 8th of Sep...</td>\n",
       "      <td>cobaltor_72</td>\n",
       "      <td>1601158017</td>\n",
       "      <td>I am beta testing a web application with nice ...</td>\n",
       "      <td>wallstreetbets</td>\n",
       "      <td>False</td>\n",
       "      <td>/r/wallstreetbets/comments/j0exmd/got_a_nice_p...</td>\n",
       "    </tr>\n",
       "  </tbody>\n",
       "</table>\n",
       "</div>"
      ],
      "text/plain": [
       "                                                title          author  \\\n",
       "98                                ms paint prediction  beholdtheflesh   \n",
       "99  Got a nice pullback on WTI Oil last 8th of Sep...     cobaltor_72   \n",
       "\n",
       "    created_utc                                           selftext  \\\n",
       "98   1601158205                                                      \n",
       "99   1601158017  I am beta testing a web application with nice ...   \n",
       "\n",
       "         subreddit  media_only  \\\n",
       "98  wallstreetbets       False   \n",
       "99  wallstreetbets       False   \n",
       "\n",
       "                                            permalink  \n",
       "98  /r/wallstreetbets/comments/j0eznp/ms_paint_pre...  \n",
       "99  /r/wallstreetbets/comments/j0exmd/got_a_nice_p...  "
      ]
     },
     "execution_count": 24,
     "metadata": {},
     "output_type": "execute_result"
    }
   ],
   "source": [
    "wall.tail(2)"
   ]
  },
  {
   "cell_type": "code",
   "execution_count": 25,
   "metadata": {},
   "outputs": [],
   "source": [
    "wall_2 = get_posts('wallstreetbets',10,1601158017)"
   ]
  },
  {
   "cell_type": "code",
   "execution_count": 31,
   "metadata": {},
   "outputs": [
    {
     "data": {
      "text/html": [
       "<div>\n",
       "<style scoped>\n",
       "    .dataframe tbody tr th:only-of-type {\n",
       "        vertical-align: middle;\n",
       "    }\n",
       "\n",
       "    .dataframe tbody tr th {\n",
       "        vertical-align: top;\n",
       "    }\n",
       "\n",
       "    .dataframe thead th {\n",
       "        text-align: right;\n",
       "    }\n",
       "</style>\n",
       "<table border=\"1\" class=\"dataframe\">\n",
       "  <thead>\n",
       "    <tr style=\"text-align: right;\">\n",
       "      <th></th>\n",
       "      <th>title</th>\n",
       "      <th>author</th>\n",
       "      <th>created_utc</th>\n",
       "      <th>selftext</th>\n",
       "      <th>subreddit</th>\n",
       "      <th>media_only</th>\n",
       "      <th>permalink</th>\n",
       "    </tr>\n",
       "  </thead>\n",
       "  <tbody>\n",
       "    <tr>\n",
       "      <th>95</th>\n",
       "      <td>Give me your twitter sources and I will check ...</td>\n",
       "      <td>data_diver</td>\n",
       "      <td>1600959836</td>\n",
       "      <td>Not sure if this has been done before. But, I'...</td>\n",
       "      <td>wallstreetbets</td>\n",
       "      <td>False</td>\n",
       "      <td>/r/wallstreetbets/comments/iyywd3/give_me_your...</td>\n",
       "    </tr>\n",
       "    <tr>\n",
       "      <th>96</th>\n",
       "      <td>FMCI Extension vote, IF YOU OWN SHARES VOTE NOW!</td>\n",
       "      <td>patcarnig</td>\n",
       "      <td>1600959751</td>\n",
       "      <td>FMCI -&amp;gt; Tattoed Chef had their extension vo...</td>\n",
       "      <td>wallstreetbets</td>\n",
       "      <td>False</td>\n",
       "      <td>/r/wallstreetbets/comments/iyyvgd/fmci_extensi...</td>\n",
       "    </tr>\n",
       "    <tr>\n",
       "      <th>97</th>\n",
       "      <td>My gains over the last few days...</td>\n",
       "      <td>mansaodokann</td>\n",
       "      <td>1600959745</td>\n",
       "      <td></td>\n",
       "      <td>wallstreetbets</td>\n",
       "      <td>False</td>\n",
       "      <td>/r/wallstreetbets/comments/iyyvdj/my_gains_ove...</td>\n",
       "    </tr>\n",
       "    <tr>\n",
       "      <th>98</th>\n",
       "      <td>Why isn't SBE going up today?</td>\n",
       "      <td>WashNo2592</td>\n",
       "      <td>1600959190</td>\n",
       "      <td></td>\n",
       "      <td>wallstreetbets</td>\n",
       "      <td>False</td>\n",
       "      <td>/r/wallstreetbets/comments/iyypax/why_isnt_sbe...</td>\n",
       "    </tr>\n",
       "    <tr>\n",
       "      <th>99</th>\n",
       "      <td>If SPY doesn’t close red today imma be pissed</td>\n",
       "      <td>anotherexstnslcrisis</td>\n",
       "      <td>1600959125</td>\n",
       "      <td></td>\n",
       "      <td>wallstreetbets</td>\n",
       "      <td>False</td>\n",
       "      <td>/r/wallstreetbets/comments/iyyok5/if_spy_doesn...</td>\n",
       "    </tr>\n",
       "  </tbody>\n",
       "</table>\n",
       "</div>"
      ],
      "text/plain": [
       "                                                title                author  \\\n",
       "95  Give me your twitter sources and I will check ...            data_diver   \n",
       "96   FMCI Extension vote, IF YOU OWN SHARES VOTE NOW!             patcarnig   \n",
       "97                 My gains over the last few days...          mansaodokann   \n",
       "98                      Why isn't SBE going up today?            WashNo2592   \n",
       "99      If SPY doesn’t close red today imma be pissed  anotherexstnslcrisis   \n",
       "\n",
       "    created_utc                                           selftext  \\\n",
       "95   1600959836  Not sure if this has been done before. But, I'...   \n",
       "96   1600959751  FMCI -&gt; Tattoed Chef had their extension vo...   \n",
       "97   1600959745                                                      \n",
       "98   1600959190                                                      \n",
       "99   1600959125                                                      \n",
       "\n",
       "         subreddit  media_only  \\\n",
       "95  wallstreetbets       False   \n",
       "96  wallstreetbets       False   \n",
       "97  wallstreetbets       False   \n",
       "98  wallstreetbets       False   \n",
       "99  wallstreetbets       False   \n",
       "\n",
       "                                            permalink  \n",
       "95  /r/wallstreetbets/comments/iyywd3/give_me_your...  \n",
       "96  /r/wallstreetbets/comments/iyyvgd/fmci_extensi...  \n",
       "97  /r/wallstreetbets/comments/iyyvdj/my_gains_ove...  \n",
       "98  /r/wallstreetbets/comments/iyypax/why_isnt_sbe...  \n",
       "99  /r/wallstreetbets/comments/iyyok5/if_spy_doesn...  "
      ]
     },
     "execution_count": 31,
     "metadata": {},
     "output_type": "execute_result"
    }
   ],
   "source": [
    "wall_2.tail()"
   ]
  },
  {
   "cell_type": "code",
   "execution_count": 26,
   "metadata": {},
   "outputs": [
    {
     "data": {
      "text/plain": [
       "(1000, 7)"
      ]
     },
     "execution_count": 26,
     "metadata": {},
     "output_type": "execute_result"
    }
   ],
   "source": [
    "wall_2.shape"
   ]
  },
  {
   "cell_type": "code",
   "execution_count": 32,
   "metadata": {},
   "outputs": [],
   "source": [
    "wall_3 = get_posts('wallstreetbets',15,1600959125)"
   ]
  },
  {
   "cell_type": "code",
   "execution_count": 34,
   "metadata": {},
   "outputs": [
    {
     "data": {
      "text/plain": [
       "(1500, 7)"
      ]
     },
     "execution_count": 34,
     "metadata": {},
     "output_type": "execute_result"
    }
   ],
   "source": [
    "wall_3.shape"
   ]
  },
  {
   "cell_type": "code",
   "execution_count": 52,
   "metadata": {},
   "outputs": [
    {
     "data": {
      "text/html": [
       "<div>\n",
       "<style scoped>\n",
       "    .dataframe tbody tr th:only-of-type {\n",
       "        vertical-align: middle;\n",
       "    }\n",
       "\n",
       "    .dataframe tbody tr th {\n",
       "        vertical-align: top;\n",
       "    }\n",
       "\n",
       "    .dataframe thead th {\n",
       "        text-align: right;\n",
       "    }\n",
       "</style>\n",
       "<table border=\"1\" class=\"dataframe\">\n",
       "  <thead>\n",
       "    <tr style=\"text-align: right;\">\n",
       "      <th></th>\n",
       "      <th>title</th>\n",
       "      <th>author</th>\n",
       "      <th>created_utc</th>\n",
       "      <th>selftext</th>\n",
       "      <th>subreddit</th>\n",
       "      <th>media_only</th>\n",
       "      <th>permalink</th>\n",
       "    </tr>\n",
       "  </thead>\n",
       "  <tbody>\n",
       "    <tr>\n",
       "      <th>99</th>\n",
       "      <td>Just a reminder</td>\n",
       "      <td>thatguyfrom2020</td>\n",
       "      <td>1600816260</td>\n",
       "      <td></td>\n",
       "      <td>wallstreetbets</td>\n",
       "      <td>False</td>\n",
       "      <td>/r/wallstreetbets/comments/ixyji0/just_a_remin...</td>\n",
       "    </tr>\n",
       "  </tbody>\n",
       "</table>\n",
       "</div>"
      ],
      "text/plain": [
       "              title           author  created_utc selftext       subreddit  \\\n",
       "99  Just a reminder  thatguyfrom2020   1600816260           wallstreetbets   \n",
       "\n",
       "    media_only                                          permalink  \n",
       "99       False  /r/wallstreetbets/comments/ixyji0/just_a_remin...  "
      ]
     },
     "execution_count": 52,
     "metadata": {},
     "output_type": "execute_result"
    }
   ],
   "source": [
    "wall_3.tail(1)"
   ]
  },
  {
   "cell_type": "code",
   "execution_count": 53,
   "metadata": {},
   "outputs": [],
   "source": [
    "wall_4 = get_posts('wallstreetbets',5,1600816260)"
   ]
  },
  {
   "cell_type": "code",
   "execution_count": 54,
   "metadata": {},
   "outputs": [
    {
     "data": {
      "text/plain": [
       "(500, 7)"
      ]
     },
     "execution_count": 54,
     "metadata": {},
     "output_type": "execute_result"
    }
   ],
   "source": [
    "wall_4.shape"
   ]
  },
  {
   "cell_type": "code",
   "execution_count": 55,
   "metadata": {},
   "outputs": [],
   "source": [
    "final_wall = pd.concat([wall,wall_2,wall_3,wall_4])"
   ]
  },
  {
   "cell_type": "code",
   "execution_count": 56,
   "metadata": {},
   "outputs": [
    {
     "data": {
      "text/plain": [
       "(4000, 7)"
      ]
     },
     "execution_count": 56,
     "metadata": {},
     "output_type": "execute_result"
    }
   ],
   "source": [
    "final_wall.shape"
   ]
  },
  {
   "cell_type": "code",
   "execution_count": 43,
   "metadata": {},
   "outputs": [],
   "source": [
    "ml = get_posts('machinelearning',20,None)"
   ]
  },
  {
   "cell_type": "code",
   "execution_count": 45,
   "metadata": {},
   "outputs": [
    {
     "data": {
      "text/plain": [
       "(2000, 7)"
      ]
     },
     "execution_count": 45,
     "metadata": {},
     "output_type": "execute_result"
    }
   ],
   "source": [
    "ml.shape"
   ]
  },
  {
   "cell_type": "code",
   "execution_count": 46,
   "metadata": {},
   "outputs": [
    {
     "data": {
      "text/html": [
       "<div>\n",
       "<style scoped>\n",
       "    .dataframe tbody tr th:only-of-type {\n",
       "        vertical-align: middle;\n",
       "    }\n",
       "\n",
       "    .dataframe tbody tr th {\n",
       "        vertical-align: top;\n",
       "    }\n",
       "\n",
       "    .dataframe thead th {\n",
       "        text-align: right;\n",
       "    }\n",
       "</style>\n",
       "<table border=\"1\" class=\"dataframe\">\n",
       "  <thead>\n",
       "    <tr style=\"text-align: right;\">\n",
       "      <th></th>\n",
       "      <th>title</th>\n",
       "      <th>author</th>\n",
       "      <th>created_utc</th>\n",
       "      <th>selftext</th>\n",
       "      <th>subreddit</th>\n",
       "      <th>media_only</th>\n",
       "      <th>permalink</th>\n",
       "    </tr>\n",
       "  </thead>\n",
       "  <tbody>\n",
       "    <tr>\n",
       "      <th>99</th>\n",
       "      <td>Unsupervised Learning: Tesla stock prices (and...</td>\n",
       "      <td>Singular23</td>\n",
       "      <td>1599180384</td>\n",
       "      <td></td>\n",
       "      <td>MachineLearning</td>\n",
       "      <td>False</td>\n",
       "      <td>/r/MachineLearning/comments/im60bx/unsupervise...</td>\n",
       "    </tr>\n",
       "  </tbody>\n",
       "</table>\n",
       "</div>"
      ],
      "text/plain": [
       "                                                title      author  \\\n",
       "99  Unsupervised Learning: Tesla stock prices (and...  Singular23   \n",
       "\n",
       "    created_utc selftext        subreddit  media_only  \\\n",
       "99   1599180384           MachineLearning       False   \n",
       "\n",
       "                                            permalink  \n",
       "99  /r/MachineLearning/comments/im60bx/unsupervise...  "
      ]
     },
     "execution_count": 46,
     "metadata": {},
     "output_type": "execute_result"
    }
   ],
   "source": [
    "ml.tail(1)"
   ]
  },
  {
   "cell_type": "code",
   "execution_count": 47,
   "metadata": {},
   "outputs": [],
   "source": [
    "ml_2 = get_posts('machinelearning',20,1599180384)"
   ]
  },
  {
   "cell_type": "code",
   "execution_count": 48,
   "metadata": {},
   "outputs": [
    {
     "data": {
      "text/plain": [
       "(2000, 7)"
      ]
     },
     "execution_count": 48,
     "metadata": {},
     "output_type": "execute_result"
    }
   ],
   "source": [
    "ml_2.shape"
   ]
  },
  {
   "cell_type": "code",
   "execution_count": 49,
   "metadata": {},
   "outputs": [],
   "source": [
    "final_ml = pd.concat([ml,ml_2])"
   ]
  },
  {
   "cell_type": "code",
   "execution_count": 50,
   "metadata": {},
   "outputs": [
    {
     "data": {
      "text/plain": [
       "(4000, 7)"
      ]
     },
     "execution_count": 50,
     "metadata": {},
     "output_type": "execute_result"
    }
   ],
   "source": [
    "final_ml.shape"
   ]
  },
  {
   "cell_type": "code",
   "execution_count": 57,
   "metadata": {},
   "outputs": [],
   "source": [
    "final_both = pd.concat([final_wall,final_ml])"
   ]
  },
  {
   "cell_type": "code",
   "execution_count": 58,
   "metadata": {},
   "outputs": [
    {
     "data": {
      "text/plain": [
       "(8000, 7)"
      ]
     },
     "execution_count": 58,
     "metadata": {},
     "output_type": "execute_result"
    }
   ],
   "source": [
    "final_both.shape"
   ]
  },
  {
   "cell_type": "code",
   "execution_count": 59,
   "metadata": {},
   "outputs": [
    {
     "data": {
      "text/plain": [
       "'C:\\\\Users\\\\seanp\\\\DSIR_824\\\\submissions\\\\projects\\\\Project-3'"
      ]
     },
     "execution_count": 59,
     "metadata": {},
     "output_type": "execute_result"
    }
   ],
   "source": [
    "pwd"
   ]
  },
  {
   "cell_type": "code",
   "execution_count": 61,
   "metadata": {},
   "outputs": [],
   "source": [
    "final_both.to_csv('scraped_sr.csv')"
   ]
  },
  {
   "cell_type": "code",
   "execution_count": 62,
   "metadata": {},
   "outputs": [],
   "source": [
    "final_both.isnull().sum()\n",
    "\n",
    "import spacy\n",
    "from sklearn.pipeline import make_pipeline"
   ]
  },
  {
   "cell_type": "code",
   "execution_count": 226,
   "metadata": {},
   "outputs": [],
   "source": [
    "X = final_both['title']\n",
    "\n",
    "y = final_both['subreddit']\n",
    "\n",
    "y.value_counts()\n",
    "\n",
    "y = y.map({'MachineLearning':0,'wallstreetbets':1})\n",
    "\n",
    "y.value_counts()\n",
    "\n",
    "from sklearn.model_selection import train_test_split, GridSearchCV\n",
    "\n",
    "X_train, X_test, y_train, y_test = train_test_split(X,y,stratify=y,random_state=42,test_size=.4)\n",
    "\n",
    "pipe = make_pipeline(TfidfVectorizer(),MultinomialNB())\n",
    "\n",
    "pipe.fit(X_train,y_train)\n",
    "\n",
    "pipe.score(X_test,y_test)\n",
    "\n",
    "pipe.get_params().keys()\n",
    "\n",
    "params = {\n",
    "    'tfidfvectorizer__max_features': range(3000,6001,250),\n",
    "    'tfidfvectorizer__ngram_range':[(1,1),(1,2),(1,3)],\n",
    "#     'multinomialnb__alpha':[.01,.1,1,2]\n",
    "}\n",
    "\n",
    "gs = GridSearchCV(pipe,params)\n",
    "\n",
    "import sklearn\n",
    "\n",
    "sklearn.set_config(display='diagram')\n",
    "\n",
    "gs.fit(X_train,y_train)\n",
    "\n",
    "gs.best_params_\n",
    "\n",
    "gs.score(X_test,y_test)\n",
    "\n",
    "gs.best_score_\n",
    "\n",
    "from sklearn.metrics import plot_confusion_matrix, classification_report\n",
    "\n",
    "plot_confusion_matrix(gs,X_test,y_test)\n",
    "\n",
    "plot_confusion_matrix(pipe,X_test,y_test)\n",
    "\n",
    "\n",
    "\n",
    "print(classification_report(y_test,gs.predict(X_test)))\n",
    "\n",
    "print(classification_report(y_test,pipe.predict(X_test)))\n",
    "\n",
    "\n",
    "\n",
    "pipe_2 = make_pipeline(CountVectorizer(),MultinomialNB())\n",
    "\n",
    "pipe_2.fit(X_train,y_train)\n",
    "\n",
    "pipe_2.score(X_test,y_test)\n",
    "\n",
    "print(classification_report(y_test,pipe_2.predict(X_test)))\n",
    "\n",
    "plot_confusion_matrix(pipe,X_train,y_train)\n",
    "\n",
    "plot_confusion_matrix(pipe,X_test,y_test)"
   ]
  },
  {
   "cell_type": "code",
   "execution_count": null,
   "metadata": {},
   "outputs": [],
   "source": []
  }
 ],
 "metadata": {
  "kernelspec": {
   "display_name": "Python 3",
   "language": "python",
   "name": "python3"
  },
  "language_info": {
   "codemirror_mode": {
    "name": "ipython",
    "version": 3
   },
   "file_extension": ".py",
   "mimetype": "text/x-python",
   "name": "python",
   "nbconvert_exporter": "python",
   "pygments_lexer": "ipython3",
   "version": "3.7.9"
  }
 },
 "nbformat": 4,
 "nbformat_minor": 4
}
